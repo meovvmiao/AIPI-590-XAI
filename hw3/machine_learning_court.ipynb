{
  "cells": [
    {
      "cell_type": "markdown",
      "metadata": {
        "id": "view-in-github",
        "colab_type": "text"
      },
      "source": [
        "<a href=\"https://colab.research.google.com/github/meovvmiao/AIPI-590-XAI/blob/main/machine_learning_court.ipynb\" target=\"_parent\"><img src=\"https://colab.research.google.com/assets/colab-badge.svg\" alt=\"Open In Colab\"/></a>"
      ]
    },
    {
      "cell_type": "markdown",
      "id": "dfa6cc37",
      "metadata": {
        "id": "dfa6cc37"
      },
      "source": [
        "# 👩‍⚖️ ⚖️ Machine Learning Court\n",
        "\n",
        "This notebook provides base model training code for our three case scenarios:\n",
        "1. **Loan Approval**\n",
        "2. **Breast Cancer Misclassification**\n",
        "3. **Recidivism Prediction**\n",
        "\n",
        "> ⚠️ This notebook does **not** include XAI techniques (SHAP, LIME, Anchors). You are expected to implement those yourself based on the model and prediction tasks below.\n",
        "\n",
        "\n",
        "\n"
      ]
    },
    {
      "cell_type": "markdown",
      "id": "MN2ts4xtQ6ts",
      "metadata": {
        "id": "MN2ts4xtQ6ts"
      },
      "source": [
        "## ⚖️ Case 1: Loan Denial Dispute – UCI Adult Income Dataset\n",
        "#### 🔍 Scenario\n",
        "\n",
        "Jane Dow, a 37-year-old professional woman with a Bachelor's degree and full-time executive role, applied for a premium credit product. The bank’s model—trained to predict income level as a proxy for eligibility—classified her as earning ≤$50K, resulting in denial. She disputes the fairness of the decision.\n",
        "\n",
        "#### 🟥 Prosecution\n",
        "Evaluate whether the model’s decision may have been influenced by inappropriate or unfair reasoning. Explore whether the explanation aligns with what should be expected in a fair credit decision.\n",
        "\n",
        "#### 🟦 Defense\n",
        "Justify the decision based on the model’s learned patterns. Consider how well the explanation supports the classification and whether similar profiles are treated consistently."
      ]
    },
    {
      "cell_type": "code",
      "execution_count": null,
      "id": "d3fbadd3",
      "metadata": {
        "colab": {
          "base_uri": "https://localhost:8080/"
        },
        "id": "d3fbadd3",
        "outputId": "cd400772-86b4-4efd-ecc1-1315911e92b7"
      },
      "outputs": [
        {
          "name": "stdout",
          "output_type": "stream",
          "text": [
            "              precision    recall  f1-score   support\n",
            "\n",
            "           0       1.00      1.00      1.00      9045\n",
            "\n",
            "    accuracy                           1.00      9045\n",
            "   macro avg       1.00      1.00      1.00      9045\n",
            "weighted avg       1.00      1.00      1.00      9045\n",
            "\n"
          ]
        }
      ],
      "source": [
        "# 📦 Case 1: Loan Approval Prediction (Adult Income Dataset)\n",
        "\n",
        "import pandas as pd\n",
        "from sklearn.model_selection import train_test_split\n",
        "from sklearn.preprocessing import LabelEncoder\n",
        "from sklearn.ensemble import RandomForestClassifier\n",
        "from sklearn.metrics import classification_report\n",
        "\n",
        "# Load Data\n",
        "from sklearn.datasets import fetch_openml\n",
        "adult = fetch_openml(name='adult', version=2, as_frame=True)\n",
        "df = adult.frame\n",
        "\n",
        "# Clean and preprocess\n",
        "df = df.dropna()\n",
        "df = df.copy()\n",
        "encoders = {}\n",
        "label_cols = df.select_dtypes(include='category').columns.tolist()\n",
        "\n",
        "for col in label_cols:\n",
        "    le = LabelEncoder()\n",
        "    df[col] = df[col].astype(str)\n",
        "    df[col] = le.fit_transform(df[col])\n",
        "    encoders[col] = le\n",
        "\n",
        "X = df.drop([\"class\", \"fnlwgt\"], axis=1)\n",
        "y = df[\"class\"].apply(lambda x: 1 if x == '>50K' else 0)\n",
        "\n",
        "X_train, X_test, y_train, y_test = train_test_split(X, y, test_size=0.2, random_state=42)\n",
        "\n",
        "# Train simple RF model\n",
        "model_adult = RandomForestClassifier(random_state=42)\n",
        "model_adult.fit(X_train, y_train)\n",
        "print(classification_report(y_test, model_adult.predict(X_test)))\n"
      ]
    },
    {
      "cell_type": "code",
      "execution_count": null,
      "id": "9a5c7c2c",
      "metadata": {
        "colab": {
          "base_uri": "https://localhost:8080/"
        },
        "id": "9a5c7c2c",
        "outputId": "1159b2cc-636a-41a7-ef2f-16e5f8631cc8"
      },
      "outputs": [
        {
          "name": "stdout",
          "output_type": "stream",
          "text": [
            "Prediction for Jane Dow (Loan Eligibility): Denied\n"
          ]
        }
      ],
      "source": [
        "# 🎯 Focus Instance: Loan Rejection Case (Jane Dow)\n",
        "\n",
        "jane_encoded = {\n",
        "    'age': 37,\n",
        "    'workclass': encoders['workclass'].transform(['Private'])[0],\n",
        "    'education': encoders['education'].transform(['Bachelors'])[0],\n",
        "    'marital-status': encoders['marital-status'].transform(['Never-married'])[0],\n",
        "    'occupation': encoders['occupation'].transform(['Exec-managerial'])[0],\n",
        "    'relationship': encoders['relationship'].transform(['Not-in-family'])[0],\n",
        "    'race': encoders['race'].transform(['White'])[0],\n",
        "    'sex': encoders['sex'].transform(['Female'])[0],\n",
        "    'hours-per-week': 50,\n",
        "    'native-country': encoders['native-country'].transform(['United-States'])[0],\n",
        "    'capital-gain': 0,\n",
        "    'capital-loss': 0,\n",
        "    'education-num': 13,\n",
        "}\n",
        "\n",
        "jane_df = pd.DataFrame([jane_encoded])\n",
        "jane_df = jane_df[X_train.columns]\n",
        "pred = model_adult.predict(jane_df)\n",
        "print(\"Prediction for Jane Dow (Loan Eligibility):\", \"Approved\" if pred[0] == 1 else \"Denied\")\n"
      ]
    },
    {
      "cell_type": "markdown",
      "id": "f5zjOjt2Rfeq",
      "metadata": {
        "id": "f5zjOjt2Rfeq"
      },
      "source": [
        "## 🩺 Case 2: Tumor Misclassification – Breast Cancer Dataset\n",
        "#### 🔍 Scenario\n",
        "Patient X received a benign classification from an AI tumor diagnostic tool and was not referred for a biopsy. Months later, the tumor was diagnosed as malignant. The model’s output is now under scrutiny.\n",
        "\n",
        "#### 🟥 Prosecution\n",
        "Use explanation tools to evaluate how the model arrived at this decision. Consider whether any key medical indicators might have been overlooked or minimized.\n",
        "\n",
        "#### 🟦 Defense\n",
        "Defend the decision with reference to the model’s logic and learned feature importance. Consider how this decision aligns with the broader data trends."
      ]
    },
    {
      "cell_type": "code",
      "execution_count": null,
      "id": "cb573d7e",
      "metadata": {
        "colab": {
          "base_uri": "https://localhost:8080/"
        },
        "id": "cb573d7e",
        "outputId": "30a92ac2-f73f-4c3c-f359-dd24ee4e568f"
      },
      "outputs": [
        {
          "name": "stdout",
          "output_type": "stream",
          "text": [
            "              precision    recall  f1-score   support\n",
            "\n",
            "           0       0.98      0.93      0.95        43\n",
            "           1       0.96      0.99      0.97        71\n",
            "\n",
            "    accuracy                           0.96       114\n",
            "   macro avg       0.97      0.96      0.96       114\n",
            "weighted avg       0.97      0.96      0.96       114\n",
            "\n"
          ]
        }
      ],
      "source": [
        "# 🧬 Case 2: Tumor Misclassification (Breast Cancer Dataset)\n",
        "from sklearn.datasets import load_breast_cancer\n",
        "from sklearn.ensemble import RandomForestClassifier\n",
        "from sklearn.model_selection import train_test_split\n",
        "from sklearn.metrics import classification_report\n",
        "import pandas as pd\n",
        "\n",
        "# Load dataset\n",
        "data = load_breast_cancer()\n",
        "df_bc = pd.DataFrame(data.data, columns=data.feature_names)\n",
        "df_bc['target'] = data.target  # 0 = malignant, 1 = benign\n",
        "\n",
        "# Train/test split\n",
        "X = df_bc.drop(\"target\", axis=1)\n",
        "y = df_bc[\"target\"]\n",
        "X_train, X_test, y_train, y_test = train_test_split(X, y, test_size=0.2, random_state=42)\n",
        "\n",
        "# Train model\n",
        "model_bc = RandomForestClassifier(random_state=42)\n",
        "model_bc.fit(X_train, y_train)\n",
        "print(classification_report(y_test, model_bc.predict(X_test)))"
      ]
    },
    {
      "cell_type": "code",
      "execution_count": null,
      "id": "d7cd05f4",
      "metadata": {
        "colab": {
          "base_uri": "https://localhost:8080/"
        },
        "id": "d7cd05f4",
        "outputId": "3d395024-8cd1-4366-e8f7-0a374b3fa630"
      },
      "outputs": [
        {
          "name": "stdout",
          "output_type": "stream",
          "text": [
            "Prediction for Patient X: Benign → No Biopsy\n"
          ]
        }
      ],
      "source": [
        "# 🧬 Focus Instance (Tumor Misclassification - Patient X)\n",
        "focus_instance_bc = pd.DataFrame([{\n",
        "    \"mean radius\": 13.80,\n",
        "    \"mean texture\": 15.79,\n",
        "    \"mean perimeter\": 90.43,\n",
        "    \"mean area\": 584.1,\n",
        "    \"mean smoothness\": 0.1007,\n",
        "    \"mean compactness\": 0.1280,\n",
        "    \"mean concavity\": 0.07789,\n",
        "    \"mean concave points\": 0.05069,\n",
        "    \"mean symmetry\": 0.1662,\n",
        "    \"mean fractal dimension\": 0.06566,\n",
        "    \"radius error\": 0.4101,\n",
        "    \"texture error\": 1.074,\n",
        "    \"perimeter error\": 2.635,\n",
        "    \"area error\": 40.14,\n",
        "    \"smoothness error\": 0.00541,\n",
        "    \"compactness error\": 0.02204,\n",
        "    \"concavity error\": 0.01664,\n",
        "    \"concave points error\": 0.01185,\n",
        "    \"symmetry error\": 0.02095,\n",
        "    \"fractal dimension error\": 0.004902,\n",
        "    \"worst radius\": 16.57,\n",
        "    \"worst texture\": 20.86,\n",
        "    \"worst perimeter\": 110.3,\n",
        "    \"worst area\": 812.4,\n",
        "    \"worst smoothness\": 0.1411,\n",
        "    \"worst compactness\": 0.3542,\n",
        "    \"worst concavity\": 0.2779,\n",
        "    \"worst concave points\": 0.1383,\n",
        "    \"worst symmetry\": 0.2589,\n",
        "    \"worst fractal dimension\": 0.1030\n",
        "}])\n",
        "\n",
        "# Run prediction\n",
        "pred = model_bc.predict(focus_instance_bc)\n",
        "print(\"Prediction for Patient X:\", \"Benign → No Biopsy\" if pred[0] == 1 else \"Malignant → Action Needed\")\n"
      ]
    },
    {
      "cell_type": "markdown",
      "id": "7yiVRowlRzxz",
      "metadata": {
        "id": "7yiVRowlRzxz"
      },
      "source": [
        "## ⚖️ Case 3: Recidivism Risk – COMPAS Dataset\n",
        "#### 🔍 Scenario\n",
        "Malik Johnson, a 27-year-old with one prior felony, was flagged as low risk by an AI risk assessment tool and granted parole. Some community stakeholders have questioned whether this was an appropriate classification.\n",
        "\n",
        "#### 🟥 Prosecution\n",
        "Examine whether the model may have underestimated risk factors. Use explanation techniques to uncover potential oversights or inconsistencies.\n",
        "\n",
        "#### 🟦 Defense\n",
        "Argue that the decision was reasonable based on the model's criteria. Use explanation tools to show which features were most influential and whether the classification aligns with data-driven patterns."
      ]
    },
    {
      "cell_type": "code",
      "execution_count": 3,
      "id": "40c14573",
      "metadata": {
        "colab": {
          "base_uri": "https://localhost:8080/"
        },
        "id": "40c14573",
        "outputId": "896c6d2c-32c4-4068-95b9-2b1a951174d6"
      },
      "outputs": [
        {
          "output_type": "stream",
          "name": "stdout",
          "text": [
            "              precision    recall  f1-score   support\n",
            "\n",
            "           0       0.68      0.68      0.68       823\n",
            "           1       0.57      0.57      0.57       620\n",
            "\n",
            "    accuracy                           0.63      1443\n",
            "   macro avg       0.62      0.62      0.62      1443\n",
            "weighted avg       0.63      0.63      0.63      1443\n",
            "\n"
          ]
        }
      ],
      "source": [
        "# ⚖️ Case 3: Recidivism Prediction (COMPAS Dataset)\n",
        "\n",
        "import pandas as pd\n",
        "import numpy as np\n",
        "from sklearn.model_selection import train_test_split\n",
        "from sklearn.ensemble import RandomForestClassifier\n",
        "from sklearn.metrics import classification_report\n",
        "\n",
        "# Load dataset\n",
        "url = \"https://raw.githubusercontent.com/propublica/compas-analysis/master/compas-scores-two-years.csv\"\n",
        "df_compas = pd.read_csv(url)\n",
        "\n",
        "# Filter relevant columns and preprocess\n",
        "features = ['age', 'sex', 'race', 'priors_count', 'juv_fel_count', 'juv_misd_count', 'juv_other_count', 'c_charge_degree']\n",
        "df = df_compas[features + ['two_year_recid']].dropna()\n",
        "df = df[df['c_charge_degree'].isin(['F', 'M'])]  # Filter valid degrees\n",
        "\n",
        "# Encode categoricals\n",
        "df = df.copy()\n",
        "df['sex'] = df['sex'].astype('category').cat.codes\n",
        "df['race'] = df['race'].astype('category').cat.codes\n",
        "df['c_charge_degree'] = df['c_charge_degree'].astype('category').cat.codes\n",
        "\n",
        "X = df[features]\n",
        "y = df['two_year_recid']\n",
        "\n",
        "X_train, X_test, y_train, y_test = train_test_split(X, y, test_size=0.2, random_state=42)\n",
        "\n",
        "model_compas = RandomForestClassifier(random_state=42)\n",
        "model_compas.fit(X_train, y_train)\n",
        "print(classification_report(y_test, model_compas.predict(X_test)))\n"
      ]
    },
    {
      "cell_type": "code",
      "execution_count": 4,
      "id": "fc902cdf",
      "metadata": {
        "colab": {
          "base_uri": "https://localhost:8080/"
        },
        "id": "fc902cdf",
        "outputId": "6ee3f265-3310-42b4-cbf2-e772fe07dfe9"
      },
      "outputs": [
        {
          "output_type": "stream",
          "name": "stdout",
          "text": [
            "Prediction for Malik Johnson (Recidivism): [0]\n"
          ]
        }
      ],
      "source": [
        "# 🎯 Focus Instance: Recidivism Risk Case (Malik Johnson)\n",
        "focus_instance_compas = pd.DataFrame([{\n",
        "    \"age\": 27,\n",
        "    \"sex\": 1,  # Male\n",
        "    \"race\": 1,  # African-American\n",
        "    \"priors_count\": 1,\n",
        "    \"juv_fel_count\": 0,\n",
        "    \"juv_misd_count\": 0,\n",
        "    \"juv_other_count\": 0,\n",
        "    \"c_charge_degree\": 1  # Felony\n",
        "}])\n",
        "\n",
        "pred = model_compas.predict(focus_instance_compas)\n",
        "print(\"Prediction for Malik Johnson (Recidivism):\", pred)\n"
      ]
    },
    {
      "cell_type": "code",
      "source": [
        "import lime\n",
        "import lime.lime_tabular\n",
        "import matplotlib.pyplot as plt\n",
        "\n",
        "# implement LIME\n",
        "categorical_features_indices = [1, 2, 7]\n",
        "categorical_features = ['sex', 'race', 'c_charge_degree']\n",
        "explainer_lime = lime.lime_tabular.LimeTabularExplainer(\n",
        "    X_train.values,\n",
        "    feature_names=features,\n",
        "    class_names=['Not Recidivated', 'Recidivated'],\n",
        "    categorical_features=categorical_features_indices,\n",
        "    categorical_names=categorical_features,\n",
        "    mode='classification',\n",
        "    random_state=42\n",
        ")\n",
        "\n",
        "# Get the prediction for the focus instance\n",
        "focus_pred = model_compas.predict(focus_instance_compas)[0]\n",
        "# Use the predicted class label for explanation\n",
        "explanation_lime = explainer_lime.explain_instance(\n",
        "    focus_instance_compas.values[0], # Convert DataFrame to numpy array\n",
        "    model_compas.predict_proba,\n",
        "    num_features=len(features),\n",
        "    labels=[focus_pred] # Specify the predicted label\n",
        ")\n",
        "print(\"\\nLIME Explanation for the Predicted Class:\")\n",
        "for feature, weight in explanation_lime.as_list(label=focus_pred):\n",
        "    print(f\"{feature}: {weight:.4f}\")"
      ],
      "metadata": {
        "colab": {
          "base_uri": "https://localhost:8080/"
        },
        "id": "z-0hxmXTX1DT",
        "outputId": "5f2a3b20-f7f8-4181-8120-9ed23774649e"
      },
      "id": "z-0hxmXTX1DT",
      "execution_count": 11,
      "outputs": [
        {
          "output_type": "stream",
          "name": "stdout",
          "text": [
            "\n",
            "LIME Explanation for the Predicted Class:\n",
            "juv_fel_count <= 0.00: 0.1386\n",
            "0.00 < priors_count <= 2.00: 0.1050\n",
            "juv_misd_count <= 0.00: 0.0853\n",
            "juv_other_count <= 0.00: 0.0784\n",
            "sex=1: -0.0553\n",
            "25.00 < age <= 31.00: -0.0427\n",
            "c_charge_degree=1: 0.0392\n",
            "race=1: 0.0149\n"
          ]
        },
        {
          "output_type": "stream",
          "name": "stderr",
          "text": [
            "/usr/local/lib/python3.12/dist-packages/sklearn/utils/validation.py:2739: UserWarning: X does not have valid feature names, but RandomForestClassifier was fitted with feature names\n",
            "  warnings.warn(\n"
          ]
        }
      ]
    },
    {
      "cell_type": "code",
      "source": [
        "# Plot and save LIME explanation\n",
        "fig_lime = explanation_lime.as_pyplot_figure(label=0)\n",
        "plt.tight_layout()\n",
        "plt.title(\"LIME Explanation for 'No Recidivism'\")"
      ],
      "metadata": {
        "colab": {
          "base_uri": "https://localhost:8080/",
          "height": 505
        },
        "id": "xrgDq721chk1",
        "outputId": "63b43b68-fda1-4701-d17f-eb44b9480a01"
      },
      "id": "xrgDq721chk1",
      "execution_count": 12,
      "outputs": [
        {
          "output_type": "execute_result",
          "data": {
            "text/plain": [
              "Text(0.5, 1.0, \"LIME Explanation for 'No Recidivism'\")"
            ]
          },
          "metadata": {},
          "execution_count": 12
        },
        {
          "output_type": "display_data",
          "data": {
            "text/plain": [
              "<Figure size 640x480 with 1 Axes>"
            ],
            "image/png": "[encoded data removed]"
          },
          "metadata": {}
        }
      ]
    },
    {
      "cell_type": "markdown",
      "source": [
        "LIME explains a single prediction by creating a simpler, \"local\" model around that prediction. It shows which features pushed the prediction towards or away from the final outcome.\n",
        "\n",
        "The plot above shows the features that were most influential in the model's decision to classify this case as \"No Recidivism.\"\n",
        "\n",
        "Features supporting \"No Recidivism\":\n",
        "\n",
        "- `juv_fel_count <= 0`: The absence of any juvenile felony convictions was the most significant factor supporting the low-risk prediction.\n",
        "- `0 < prior_counts <= 2` was the second most important factor dominating the prediction result. Having only one prior offense strongly pushed the model to predict a low risk of re-offending.\n",
        "\n",
        "Features opposing \"No Recidivism\":\n",
        "\n",
        "- `sex = 1`: Being a male is the most influencing factor toward a decision of \" Recidivism\".\n",
        "- `27 < age <= 31`: Being in the age range also contributed to a re-offending decision.\n",
        "\n",
        "Overall, it is clear that the model is data driven. The clean juvenile record and a low number of prior offenses outweighted the negative signals associated with the individual's sex and age. It is even surprising that being a black-american is actually positive in this model."
      ],
      "metadata": {
        "id": "K1Etfohzc9P1"
      },
      "id": "K1Etfohzc9P1"
    },
    {
      "cell_type": "code",
      "source": [
        "df['c_charge_degree'].unique()"
      ],
      "metadata": {
        "colab": {
          "base_uri": "https://localhost:8080/"
        },
        "id": "qNV4LjDljmw5",
        "outputId": "0d199a1b-2806-444f-9010-f564d8a1e512"
      },
      "id": "qNV4LjDljmw5",
      "execution_count": 7,
      "outputs": [
        {
          "output_type": "execute_result",
          "data": {
            "text/plain": [
              "array([0, 1], dtype=int8)"
            ]
          },
          "metadata": {},
          "execution_count": 7
        }
      ]
    },
    {
      "cell_type": "code",
      "metadata": {
        "colab": {
          "base_uri": "https://localhost:8080/"
        },
        "id": "1e5a91b2",
        "outputId": "852e61ea-1949-4baf-8c3a-829ee8b5c139"
      },
      "source": [
        "# implement anchors\n",
        "import warnings\n",
        "from alibi.explainers import AnchorTabular\n",
        "\n",
        "# Suppress the specific UserWarning from scikit-learn\n",
        "warnings.filterwarnings(\"ignore\", message=\"X does not have valid feature names, but RandomForestClassifier was fitted with feature names\")\n",
        "\n",
        "\n",
        "categorical_features_names = {\n",
        "    1: {0: 'Female', 1: 'Male'},\n",
        "    2: {0: 'Other', 1: 'African-American', 2: 'Caucasian', 3: 'Hispanic', 4: 'Native American', 5: 'Asian'},\n",
        "    7: {0: 'Misdemeanor', 1: 'Felony'}\n",
        "}\n",
        "\n",
        "predict_fn_anchor = lambda x: model_compas.predict_proba(x)\n",
        "explainer_anchor = AnchorTabular(predict_fn_anchor, features, categorical_names=categorical_features_names)\n",
        "\n",
        "# Fit the explainer on the training data to learn feature distributions\n",
        "explainer_anchor.fit(X_train.values)\n",
        "\n",
        "explanation_anchor = explainer_anchor.explain(focus_instance_compas.values[0], threshold=0.95)\n",
        "\n",
        "print(f\"\\nAnchor: {' AND '.join(explanation_anchor.anchor)}\")\n",
        "print(f\"Precision: {explanation_anchor.precision:.2f}\")\n",
        "print(f\"Coverage: {explanation_anchor.coverage:.2f}\")"
      ],
      "id": "1e5a91b2",
      "execution_count": 11,
      "outputs": [
        {
          "output_type": "stream",
          "name": "stdout",
          "text": [
            "\n",
            "Anchor: priors_count <= 2.00 AND age > 25.00 AND race = African-American AND c_charge_degree = Felony\n",
            "Precision: 1.00\n",
            "Coverage: 0.00\n"
          ]
        }
      ]
    },
    {
      "cell_type": "code",
      "metadata": {
        "colab": {
          "base_uri": "https://localhost:8080/",
          "height": 519
        },
        "id": "15b47eca",
        "outputId": "097317d5-1482-4768-be88-7c184e3065f1"
      },
      "source": [
        "import matplotlib.pyplot as plt\n",
        "import numpy as np\n",
        "import collections\n",
        "\n",
        "# Anchor Performance Plot\n",
        "print(\"\\n--- Generating Anchor Performance Plot ---\")\n",
        "\n",
        "# Define the anchor rule based on the explanation's output\n",
        "# Note: This is hardcoded from the anchor result for clarity.\n",
        "# In a real application, you might parse this programmatically.\n",
        "# The anchor was: priors_count <= 2.00 AND race = African-American AND c_charge_degree = Felony AND age > 25.00\n",
        "rule_mask = (X_test['priors_count'] <= 2.00) & \\\n",
        "            (X_test['race'] == 1) & \\\n",
        "            (X_test['c_charge_degree'] == 1) & \\\n",
        "            (X_test['age'] > 25.00)\n",
        "\n",
        "# Apply the rule to the test set\n",
        "X_test_anchor = X_test[rule_mask]\n",
        "X_test_outside_anchor = X_test[~rule_mask]\n",
        "\n",
        "# Get model predictions for both groups\n",
        "# Ensure predictions are made on NumPy arrays\n",
        "preds_anchor = model_compas.predict(X_test_anchor.values)\n",
        "preds_outside_anchor = model_compas.predict(X_test_outside_anchor.values)\n",
        "\n",
        "# Count predictions in each group\n",
        "counts_anchor = collections.Counter(preds_anchor)\n",
        "counts_outside = collections.Counter(preds_outside_anchor)\n",
        "\n",
        "# Prepare data for plotting\n",
        "labels = ['Inside Anchor', 'Outside Anchor']\n",
        "no_recid_counts = [counts_anchor.get(0, 0), counts_outside.get(0, 0)]\n",
        "recid_counts = [counts_anchor.get(1, 0), counts_outside.get(1, 0)]\n",
        "total_anchor = len(X_test_anchor)\n",
        "total_outside = len(X_test_outside_anchor)\n",
        "\n",
        "# Normalize to percentages\n",
        "no_recid_perc = [c / total_anchor * 100 if total_anchor > 0 else 0 for c in no_recid_counts]\n",
        "recid_perc = [c / total_anchor * 100 if total_anchor > 0 else 0 for c in recid_counts]\n",
        "\n",
        "# Handle the case where total_outside is 0 to avoid division by zero\n",
        "no_recid_perc_outside = no_recid_counts[1] / total_outside * 100 if total_outside > 0 else 0\n",
        "recid_perc_outside = recid_counts[1] / total_outside * 100 if total_outside > 0 else 0\n",
        "\n",
        "no_recid_perc[1] = no_recid_perc_outside\n",
        "recid_perc[1] = recid_perc_outside\n",
        "\n",
        "bar_width = 0.35\n",
        "index = np.arange(len(labels))\n",
        "\n",
        "fig, ax = plt.subplots(figsize=(10, 6))\n",
        "bar1 = ax.bar(index, no_recid_perc, bar_width, label='Predicted: No Recidivism', color='cornflowerblue')\n",
        "bar2 = ax.bar(index + bar_width, recid_perc, bar_width, label='Predicted: Recidivism', color='salmon')\n",
        "\n",
        "ax.set_xlabel('Test Set Group', fontsize=12)\n",
        "ax.set_ylabel('Percentage of Predictions (%)', fontsize=12)\n",
        "ax.set_title('Model Prediction Distribution Based on Anchor Rule', fontsize=14, fontweight='bold')\n",
        "ax.set_xticks(index + bar_width / 2)\n",
        "ax.set_xticklabels(labels)\n",
        "ax.legend()\n",
        "\n",
        "# Add percentage labels on bars\n",
        "for bar in bar1 + bar2:\n",
        "    height = bar.get_height()\n",
        "    ax.annotate(f'{height:.1f}%',\n",
        "                xy=(bar.get_x() + bar.get_width() / 2, height),\n",
        "                xytext=(0, 3),  # 3 points vertical offset\n",
        "                textcoords=\"offset points\",\n",
        "                ha='center', va='bottom')\n",
        "\n",
        "plt.tight_layout()"
      ],
      "id": "15b47eca",
      "execution_count": 13,
      "outputs": [
        {
          "output_type": "stream",
          "name": "stdout",
          "text": [
            "\n",
            "--- Generating Anchor Performance Plot ---\n"
          ]
        },
        {
          "output_type": "display_data",
          "data": {
            "text/plain": [
              "<Figure size 1000x600 with 1 Axes>"
            ],
            "image/png": "[encoded data removed]"
          },
          "metadata": {}
        }
      ]
    },
    {
      "cell_type": "markdown",
      "source": [
        "## Interpreting the Anchors Explanation (Recidivism Prediction)\n",
        "\n",
        "The Anchor explanation provides a rule or set of rules that are sufficient to \"anchor\" the model's prediction with high probability. This means that for instances where these conditions are met, the model is highly likely to make the same prediction.\n",
        "\n",
        "The generated Anchor for Malik Johnson's case is:\n",
        "\n",
        "**Anchor:** `priors_count <= 2.00 AND race = African-American AND c_charge_degree = Felony AND age > 25.00`\n",
        "\n",
        "**Precision:** `0.99` (This means that 99% of instances satisfying this rule are predicted as 'Not Recidivated' by the model).\n",
        "\n",
        "**Coverage:** `0.00` (This indicates how many instances in the training data satisfy this rule. A coverage of 0.00 suggests that this specific combination of features is rare in the training data).\n",
        "\n",
        "**Interpretation:**\n",
        "\n",
        "This Anchor suggests that for individuals who are African-American, have a prior offense count of 2 or less, have a felony charge degree, and are over 25 years old, the model is highly confident in predicting 'Not Recidivated' (a precision of 0.99).\n",
        "\n",
        "While the precision is very high, the low coverage indicates that this exact combination of features doesn't appear frequently in the training data. This raises questions about the generalizability of this specific rule, although the high precision for the rule when it *does* apply is notable.\n",
        "\n",
        "In the context of Malik Johnson's case (who has `priors_count = 1`, `race = African-American`, `c_charge_degree = Felony`, and `age = 27`), this Anchor provides a clear, rule-based explanation for the model's 'Not Recidivated' prediction. It highlights the specific combination of these four features as being highly influential in this particular decision."
      ],
      "metadata": {
        "id": "xQ11hi0mmXR_"
      },
      "id": "xQ11hi0mmXR_"
    }
  ],
  "metadata": {
    "colab": {
      "provenance": [],
      "include_colab_link": true
    },
    "kernelspec": {
      "display_name": "Python 3",
      "name": "python3"
    },
    "language_info": {
      "name": "python"
    }
  },
  "nbformat": 4,
  "nbformat_minor": 5
}
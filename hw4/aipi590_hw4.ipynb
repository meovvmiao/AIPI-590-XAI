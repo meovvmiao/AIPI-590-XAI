{
  "cells": [
    {
      "cell_type": "markdown",
      "metadata": {
        "id": "view-in-github",
        "colab_type": "text"
      },
      "source": [
        "<a href=\"https://colab.research.google.com/github/meovvmiao/AIPI-590-XAI/blob/main/hw4/aipi590_hw4.ipynb\" target=\"_parent\"><img src=\"https://colab.research.google.com/assets/colab-badge.svg\" alt=\"Open In Colab\"/></a>"
      ]
    },
    {
      "cell_type": "markdown",
      "metadata": {
        "id": "D0vmOoQhlVne"
      },
      "source": [
        "# AIPI 590 - XAI | Assignment #04\n",
        "### This homework was done without AI.\n",
        "### Eleanor Jiang\n",
        "\n",
        "\n",
        "[![Open In Collab](https://colab.research.google.com/assets/colab-badge.svg)](https://colab.research.google.com/github/meovvmiao/aipi-590-xai/blob/dev/hw4/aipi590_hw4.ipynb)"
      ]
    },
    {
      "cell_type": "code",
      "execution_count": 4,
      "metadata": {
        "id": "7EFoNH5xlVne",
        "colab": {
          "base_uri": "https://localhost:8080/"
        },
        "outputId": "8ae6ba7f-070b-4999-b1b6-b0eeebda0392"
      },
      "outputs": [
        {
          "output_type": "stream",
          "name": "stdout",
          "text": [
            "rm: cannot remove './sample_data': No such file or directory\n",
            "fatal: destination path 'AIPI-590-XAI' already exists and is not an empty directory.\n",
            "[Errno 2] No such file or directory: 'AIPI-590-XAI/hw4'\n",
            "/content/AIPI-590-XAI/hw2\n",
            "aipi590_hw2.ipynb  \u001b[0m\u001b[01;34mAIPI-590-XAI\u001b[0m/  utils.py\n"
          ]
        }
      ],
      "source": [
        "# Please use this to connect your GitHub repository to your Google Colab notebook\n",
        "# Connects to any needed files from GitHub and Google Drive\n",
        "import os\n",
        "\n",
        "# Remove Colab default sample_data\n",
        "!rm -r ./sample_data\n",
        "\n",
        "# Clone GitHub files to colab workspace\n",
        "repo_name = \"AIPI-590-XAI\" # Change to your repo name\n",
        "git_path = 'https://github.com/meovvmiao/AIPI-590-XAI.git' #Change to your path\n",
        "!git clone \"{git_path}\"\n",
        "\n",
        "# Install dependencies from requirements.txt file\n",
        "#!pip install -r \"{os.path.join(repo_name,'requirements.txt')}\" #Add if using requirements.txt\n",
        "\n",
        "# Change working directory to location of notebook\n",
        "notebook_dir = 'hw4'\n",
        "# path_to_notebook = os.path.join(repo_name,notebook_dir)\n",
        "path_to_notebook = os.path.join(repo_name, notebook_dir)\n",
        "%cd \"{path_to_notebook}\"\n",
        "%ls"
      ]
    },
    {
      "cell_type": "markdown",
      "metadata": {
        "id": "aXuzsoDDlVnf"
      },
      "source": [
        "#### Using environment variables in Google Colab\n",
        "\n",
        "In Google Colab, locate the key button on the left side of the screen. You can enter in any environment variables or API keys here and they will remain private.\n",
        "\n",
        "Then add the environment variables to your notebook using the code below.\n",
        "\n",
        "Make sure to document in your notebook if you are using API keys and how to get them (ie share a link for documentation to get a Hugging Face API Key if you are using Hugging Face)"
      ]
    },
    {
      "cell_type": "code",
      "execution_count": null,
      "metadata": {
        "id": "Fx_5gfjxlVnf"
      },
      "outputs": [],
      "source": [
        "from google.colab import userdata\n",
        "userdata.get('secretName')"
      ]
    }
  ],
  "metadata": {
    "language_info": {
      "name": "python"
    },
    "colab": {
      "provenance": [],
      "include_colab_link": true
    },
    "kernelspec": {
      "name": "python3",
      "display_name": "Python 3"
    }
  },
  "nbformat": 4,
  "nbformat_minor": 0
}